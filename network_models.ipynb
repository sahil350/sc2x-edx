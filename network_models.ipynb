{
  "nbformat": 4,
  "nbformat_minor": 0,
  "metadata": {
    "colab": {
      "name": "network_models.ipynb",
      "provenance": [],
      "collapsed_sections": [],
      "authorship_tag": "ABX9TyP3mwvvia8X5abT5hE7qW95",
      "include_colab_link": true
    },
    "kernelspec": {
      "name": "python3",
      "display_name": "Python 3"
    }
  },
  "cells": [
    {
      "cell_type": "markdown",
      "metadata": {
        "id": "view-in-github",
        "colab_type": "text"
      },
      "source": [
        "<a href=\"https://colab.research.google.com/github/sahil350/sc2x-edx/blob/main/network_models.ipynb\" target=\"_parent\"><img src=\"https://colab.research.google.com/assets/colab-badge.svg\" alt=\"Open In Colab\"/></a>"
      ]
    },
    {
      "cell_type": "markdown",
      "metadata": {
        "id": "lJClov5MrHhG"
      },
      "source": [
        "# Introduction to Network Models"
      ]
    },
    {
      "cell_type": "code",
      "metadata": {
        "colab": {
          "base_uri": "https://localhost:8080/"
        },
        "id": "ozz14__2HNT6",
        "outputId": "a17338b5-f952-4be2-eb6b-117d45b7b4db"
      },
      "source": [
        "!pip install -q ortools"
      ],
      "execution_count": 7,
      "outputs": [
        {
          "output_type": "stream",
          "text": [
            "\u001b[K     |████████████████████████████████| 14.0MB 302kB/s \n",
            "\u001b[K     |████████████████████████████████| 1.0MB 61.4MB/s \n",
            "\u001b[K     |████████████████████████████████| 133kB 54.2MB/s \n",
            "\u001b[31mERROR: tensorflow-metadata 0.26.0 has requirement absl-py<0.11,>=0.9, but you'll have absl-py 0.11.0 which is incompatible.\u001b[0m\n",
            "\u001b[?25h"
          ],
          "name": "stdout"
        }
      ]
    },
    {
      "cell_type": "code",
      "metadata": {
        "id": "1rCbVoFCqZPs"
      },
      "source": [
        "import pandas as pd\r\n",
        "import numpy as np\r\n",
        "import networkx as nx\r\n",
        "from plotly import graph_objects as go\r\n",
        "from ortools.linear_solver import pywraplp"
      ],
      "execution_count": 8,
      "outputs": []
    },
    {
      "cell_type": "markdown",
      "metadata": {
        "id": "wzOjoA8tqycR"
      },
      "source": [
        "## The Transportations Problem\r\n",
        "\r\n",
        "### Steel Co \r\n",
        "\r\n",
        "Steel Co supplying to 4 construction projects in Northeast regions:\r\n",
        "\r\n",
        "\r\n",
        "1.  Buffalo: 40,500 pounds\r\n",
        "2.  Albany: 22,230 pounds\r\n",
        "3.  Philadelphia: 85,200 pounds\r\n",
        "4.  Cleveland: 47,500 pounds\r\n",
        "\r\n",
        "Two distribution centers \r\n",
        "1. Allentown: 100,000 pounds\r\n",
        "2. Toledo: 100,000 pounds\r\n",
        "\r\n",
        "#### Cost of transportation from DC to Project Center\r\n",
        "\r\n",
        "DC| **Buffalo** | **Albany** | **Philadelphia** | **Cleveland**\r\n",
        "--- | --- | --- | --- | ---\r\n",
        "Allentown | 52 | 32 | 11 | 69\r\n",
        "Toledo | 45 | 84 | 76 | 15\r\n",
        "\r\n",
        "\r\n"
      ]
    },
    {
      "cell_type": "code",
      "metadata": {
        "id": "5Mz3P3R7qxYp"
      },
      "source": [
        "solver = pywraplp.Solver.CreateSolver('GLOP')"
      ],
      "execution_count": 9,
      "outputs": []
    },
    {
      "cell_type": "code",
      "metadata": {
        "id": "v6gWJqV3HYW3"
      },
      "source": [
        "# add variables \r\n",
        "# key\r\n",
        "# x11 : Allentown to Buffalo\r\n",
        "# x12 : Allentown to Albany\r\n",
        "# x13 : Allentown to Philadelphia\r\n",
        "# x14 : Allentown to Cleveland\r\n",
        "# x21 : Toledo to Buffalo\r\n",
        "# x22 : Toledo to Albany\r\n",
        "# x23 : Toledo to Philadelphia\r\n",
        "# x24 : Toledo to Cleveland\r\n",
        "# All xij are in pounds of steel\r\n",
        "\r\n",
        "dec_vars = {}\r\n",
        "for var in ['x11', 'x12', 'x13', 'x14', 'x21', 'x22', 'x23', 'x24']:\r\n",
        "  dec_vars[var] = solver.NumVar(0, solver.infinity(), var)"
      ],
      "execution_count": 10,
      "outputs": []
    },
    {
      "cell_type": "code",
      "metadata": {
        "id": "iRXnqjTyI1aJ"
      },
      "source": [
        "# add supply constraints\r\n",
        "# There will be two constraints\r\n",
        "# constraints : Sum(xij) <= 100000\r\n",
        "# for all j in {1, 2, 3, 4}\r\n",
        "# for all i in {1, 2}\r\n",
        "\r\n",
        "for i in [1, 2]:\r\n",
        "  solver.Add(dec_vars[f'x{i}1'] + dec_vars[f'x{i}2'] + dec_vars[f'x{i}3'] + \\\r\n",
        "             dec_vars[f'x{i}4'] <= 100000)\r\n"
      ],
      "execution_count": 11,
      "outputs": []
    },
    {
      "cell_type": "code",
      "metadata": {
        "id": "p0KTsNEaJwxK"
      },
      "source": [
        "# add demand constraints\r\n",
        "# There will be 4 constraints\r\n",
        "# constraints : Sum(xij) >= dj\r\n",
        "# for all j in {1, 2, 3, 4}\r\n",
        "# for all i in {1, 2}\r\n",
        "# where dj are corresponding demands\r\n",
        "\r\n",
        "dj = {\r\n",
        "    'd1': 40500,\r\n",
        "    'd2': 22230,\r\n",
        "    'd3': 85200,\r\n",
        "    'd4': 47500\r\n",
        "}\r\n",
        "\r\n",
        "# constraints\r\n",
        "for j in [1, 2, 3, 4]:\r\n",
        "  solver.Add(dec_vars[f'x1{j}'] + dec_vars[f'x2{j}'] >= dj[f'd{j}']) "
      ],
      "execution_count": 12,
      "outputs": []
    },
    {
      "cell_type": "code",
      "metadata": {
        "id": "cnvcNGonKpO-"
      },
      "source": [
        "# add objective function\r\n",
        "# we want to minimize cost\r\n",
        "# obj: Min Sum(cij*xij)\r\n",
        "# for all j in {1, 2, 3, 4}\r\n",
        "# for all i in {1, 2}\r\n",
        "\r\n",
        "costs = {\r\n",
        "    'c11' : 52,\r\n",
        "    'c12' : 32,\r\n",
        "    'c13' : 11,\r\n",
        "    'c14' : 69,\r\n",
        "    'c21' : 45,\r\n",
        "    'c22' : 84,\r\n",
        "    'c23' : 76,\r\n",
        "    'c24' : 15\r\n",
        "}\r\n",
        "\r\n",
        "obj_fun = 0\r\n",
        "\r\n",
        "for i in [1, 2]:\r\n",
        "  for j in [1, 2, 3, 4]:\r\n",
        "    obj_fun += costs[f'c{i}{j}'] * dec_vars[f'x{i}{j}']\r\n",
        "\r\n",
        "solver.Minimize(obj_fun)"
      ],
      "execution_count": 14,
      "outputs": []
    },
    {
      "cell_type": "code",
      "metadata": {
        "id": "DOIPZumoL80V"
      },
      "source": [
        "# solve LP\r\n",
        "status = solver.Solve()"
      ],
      "execution_count": 18,
      "outputs": []
    },
    {
      "cell_type": "code",
      "metadata": {
        "colab": {
          "base_uri": "https://localhost:8080/"
        },
        "id": "amz_LWXwMC4_",
        "outputId": "c7f3590e-cb1d-4a5c-f34f-25bdaa609576"
      },
      "source": [
        "# display results\r\n",
        "display_dict = {\r\n",
        "    'x11' : 'Allentown to Buffalo',\r\n",
        "    'x12' : 'Allentown to Albany',\r\n",
        "    'x13' : 'Allentown to Philadelphia',\r\n",
        "    'x14' : 'Allentown to Cleveland',\r\n",
        "    'x21' : 'Toledo to Buffalo',\r\n",
        "    'x22' : 'Toledo to Albany',\r\n",
        "    'x23' : 'Toledo to Philadelphia',\r\n",
        "    'x24' : 'Toledo to Cleveland'\r\n",
        "}\r\n",
        "if status == pywraplp.Solver.OPTIMAL:\r\n",
        "  print(f'Minimum Cost: $ {solver.Objective().Value()}')\r\n",
        "  for i in [1, 2]:\r\n",
        "    for j in [1, 2, 3, 4]:\r\n",
        "      print(f'{display_dict[f\"x{i}{j}\"]}:' +\r\n",
        "      f' {round(dec_vars[f\"x{i}{j}\"].solution_value(), 2)} pounds')\r\n",
        "  allentown = dec_vars['x11'].solution_value() +\\\r\n",
        "              dec_vars['x12'].solution_value() +\\\r\n",
        "              dec_vars['x13'].solution_value() +\\\r\n",
        "              dec_vars['x14'].solution_value()\r\n",
        "\r\n",
        "  toledo = dec_vars['x21'].solution_value() +\\\r\n",
        "           dec_vars['x22'].solution_value() +\\\r\n",
        "           dec_vars['x23'].solution_value() +\\\r\n",
        "           dec_vars['x24'].solution_value()  \r\n",
        "  print(f'Total shipped from Allentown: {round(allentown, 2)} pounds')\r\n",
        "  print(f'Total shipped from Toled: {round(toledo, 2)} pounds')"
      ],
      "execution_count": 31,
      "outputs": [
        {
          "output_type": "stream",
          "text": [
            "Minimum Cost: $ 4569920.0\n",
            "Allentown to Buffalo: 0.0 pounds\n",
            "Allentown to Albany: 14800.0 pounds\n",
            "Allentown to Philadelphia: 85200.0 pounds\n",
            "Allentown to Cleveland: 0.0 pounds\n",
            "Toledo to Buffalo: 40500.0 pounds\n",
            "Toledo to Albany: 7430.0 pounds\n",
            "Toledo to Philadelphia: 0.0 pounds\n",
            "Toledo to Cleveland: 47500.0 pounds\n",
            "Total shipped from Allentown: 100000.0 pounds\n",
            "Total shipped from Toled: 95430.0 pounds\n"
          ],
          "name": "stdout"
        }
      ]
    }
  ]
}